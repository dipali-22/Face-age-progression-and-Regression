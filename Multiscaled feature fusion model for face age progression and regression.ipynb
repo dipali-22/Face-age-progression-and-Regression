{
  "nbformat": 4,
  "nbformat_minor": 0,
  "metadata": {
    "colab": {
      "name": "SSIM1.ipynb",
      "provenance": [],
      "collapsed_sections": []
    },
    "kernelspec": {
      "name": "python3",
      "display_name": "Python 3"
    },
    "accelerator": "GPU"
  },
  "cells": [
    {
      "cell_type": "code",
      "metadata": {
        "id": "gPJAnPoiwXUD"
      },
      "source": [
        ""
      ],
      "execution_count": null,
      "outputs": []
    },
    {
      "cell_type": "markdown",
      "metadata": {
        "id": "Z6JknUuqL6r_"
      },
      "source": [
        "Download data"
      ]
    },
    {
      "cell_type": "code",
      "metadata": {
        "id": "rqB8gqq5L6sD"
      },
      "source": [
        "import requests\n",
        "\n",
        "def download_file_from_google_drive(id, destination):\n",
        "    URL = \"https://docs.google.com/uc?export=download\"\n",
        "\n",
        "    session = requests.Session()\n",
        "\n",
        "    response = session.get(URL, params = { 'id' : id }, stream = True)\n",
        "    token = get_confirm_token(response)\n",
        "\n",
        "    if token:\n",
        "        params = { 'id' : id, 'confirm' : token }\n",
        "        response = session.get(URL, params = params, stream = True)\n",
        "\n",
        "    save_response_content(response, destination)    \n",
        "\n",
        "def get_confirm_token(response):\n",
        "    for key, value in response.cookies.items():\n",
        "        if key.startswith('download_warning'):\n",
        "            return value\n",
        "\n",
        "    return None\n",
        "\n",
        "def save_response_content(response, destination):\n",
        "    CHUNK_SIZE = 32768\n",
        "\n",
        "    with open(destination, \"wb\") as f:\n",
        "        for chunk in response.iter_content(CHUNK_SIZE):\n",
        "            if chunk: # filter out keep-alive new chunks\n",
        "                f.write(chunk)\n",
        "\n",
        "if __name__ == \"__main__\":\n",
        "    file_id = 'TAKE ID FROM SHAREABLE LINK'\n",
        "    destination = 'DESTINATION FILE ON YOUR DISK'\n",
        "    download_file_from_google_drive(\"0BxYys69jI14kYVM3aVhKS1VhRUk\", \"UTKFace.tar.gz\")"
      ],
      "execution_count": null,
      "outputs": []
    },
    {
      "cell_type": "markdown",
      "metadata": {
        "id": "jG__fcyyL6sL"
      },
      "source": [
        "Just refer id 0BxYys69jI14kYVM3aVhKS1VhRUk\n",
        "Install dependancies\n"
      ]
    },
    {
      "cell_type": "code",
      "metadata": {
        "id": "zAMUuuzLL6sM",
        "colab": {
          "base_uri": "https://localhost:8080/",
          "height": 425
        },
        "outputId": "e6d0ddeb-d6e3-4253-b492-df5b2a501b19"
      },
      "source": [
        "!pip install opencv-python\n",
        "!apt update && apt install -y libsm6 libxext6 libxrender-dev"
      ],
      "execution_count": null,
      "outputs": [
        {
          "output_type": "stream",
          "text": [
            "Requirement already satisfied: opencv-python in /usr/local/lib/python3.6/dist-packages (4.1.2.30)\n",
            "Requirement already satisfied: numpy>=1.11.3 in /usr/local/lib/python3.6/dist-packages (from opencv-python) (1.18.2)\n",
            "Hit:1 http://ppa.launchpad.net/graphics-drivers/ppa/ubuntu bionic InRelease\n",
            "Hit:2 http://archive.ubuntu.com/ubuntu bionic InRelease\n",
            "Hit:3 http://archive.ubuntu.com/ubuntu bionic-updates InRelease\n",
            "Hit:4 http://ppa.launchpad.net/marutter/c2d4u3.5/ubuntu bionic InRelease\n",
            "Hit:5 http://archive.ubuntu.com/ubuntu bionic-backports InRelease\n",
            "Hit:6 https://cloud.r-project.org/bin/linux/ubuntu bionic-cran35/ InRelease\n",
            "Hit:7 http://security.ubuntu.com/ubuntu bionic-security InRelease\n",
            "Ign:8 https://developer.download.nvidia.com/compute/cuda/repos/ubuntu1804/x86_64  InRelease\n",
            "Ign:9 https://developer.download.nvidia.com/compute/machine-learning/repos/ubuntu1804/x86_64  InRelease\n",
            "Hit:10 https://developer.download.nvidia.com/compute/cuda/repos/ubuntu1804/x86_64  Release\n",
            "Hit:11 https://developer.download.nvidia.com/compute/machine-learning/repos/ubuntu1804/x86_64  Release\n",
            "Reading package lists... Done\n",
            "Building dependency tree       \n",
            "Reading state information... Done\n",
            "38 packages can be upgraded. Run 'apt list --upgradable' to see them.\n",
            "Reading package lists... Done\n",
            "Building dependency tree       \n",
            "Reading state information... Done\n",
            "libsm6 is already the newest version (2:1.2.2-1).\n",
            "libxext6 is already the newest version (2:1.3.3-1).\n",
            "libxrender-dev is already the newest version (1:0.9.10-1).\n",
            "0 upgraded, 0 newly installed, 0 to remove and 38 not upgraded.\n"
          ],
          "name": "stdout"
        }
      ]
    },
    {
      "cell_type": "code",
      "metadata": {
        "id": "2u_PltrlL6sR",
        "colab": {
          "base_uri": "https://localhost:8080/",
          "height": 102
        },
        "outputId": "f46cfbbd-ca47-41f5-f32c-1bce147529da"
      },
      "source": [
        "!pip install requests"
      ],
      "execution_count": null,
      "outputs": [
        {
          "output_type": "stream",
          "text": [
            "Requirement already satisfied: requests in /usr/local/lib/python3.6/dist-packages (2.21.0)\n",
            "Requirement already satisfied: certifi>=2017.4.17 in /usr/local/lib/python3.6/dist-packages (from requests) (2019.11.28)\n",
            "Requirement already satisfied: chardet<3.1.0,>=3.0.2 in /usr/local/lib/python3.6/dist-packages (from requests) (3.0.4)\n",
            "Requirement already satisfied: urllib3<1.25,>=1.21.1 in /usr/local/lib/python3.6/dist-packages (from requests) (1.24.3)\n",
            "Requirement already satisfied: idna<2.9,>=2.5 in /usr/local/lib/python3.6/dist-packages (from requests) (2.8)\n"
          ],
          "name": "stdout"
        }
      ]
    },
    {
      "cell_type": "code",
      "metadata": {
        "id": "ggA3CBobL6sV",
        "colab": {
          "base_uri": "https://localhost:8080/",
          "height": 153
        },
        "outputId": "9c38ed78-8ed1-474e-a7ea-d53c1306a8d9"
      },
      "source": [
        "!pip install keras"
      ],
      "execution_count": null,
      "outputs": [
        {
          "output_type": "stream",
          "text": [
            "Requirement already satisfied: keras in /usr/local/lib/python3.6/dist-packages (2.2.5)\n",
            "Requirement already satisfied: keras-preprocessing>=1.1.0 in /usr/local/lib/python3.6/dist-packages (from keras) (1.1.0)\n",
            "Requirement already satisfied: pyyaml in /usr/local/lib/python3.6/dist-packages (from keras) (3.13)\n",
            "Requirement already satisfied: numpy>=1.9.1 in /usr/local/lib/python3.6/dist-packages (from keras) (1.18.2)\n",
            "Requirement already satisfied: scipy>=0.14 in /usr/local/lib/python3.6/dist-packages (from keras) (1.4.1)\n",
            "Requirement already satisfied: h5py in /usr/local/lib/python3.6/dist-packages (from keras) (2.10.0)\n",
            "Requirement already satisfied: six>=1.9.0 in /usr/local/lib/python3.6/dist-packages (from keras) (1.12.0)\n",
            "Requirement already satisfied: keras-applications>=1.0.8 in /usr/local/lib/python3.6/dist-packages (from keras) (1.0.8)\n"
          ],
          "name": "stdout"
        }
      ]
    },
    {
      "cell_type": "code",
      "metadata": {
        "id": "HGD_V5WTL6sZ",
        "colab": {
          "base_uri": "https://localhost:8080/",
          "height": 68
        },
        "outputId": "54a33d64-2cc5-4f9d-fe0b-07d7a2312894"
      },
      "source": [
        "!pip install imageio"
      ],
      "execution_count": null,
      "outputs": [
        {
          "output_type": "stream",
          "text": [
            "Requirement already satisfied: imageio in /usr/local/lib/python3.6/dist-packages (2.4.1)\n",
            "Requirement already satisfied: pillow in /usr/local/lib/python3.6/dist-packages (from imageio) (7.0.0)\n",
            "Requirement already satisfied: numpy in /usr/local/lib/python3.6/dist-packages (from imageio) (1.18.2)\n"
          ],
          "name": "stdout"
        }
      ]
    },
    {
      "cell_type": "code",
      "metadata": {
        "id": "kH2Y-2hUL6sf",
        "colab": {
          "base_uri": "https://localhost:8080/",
          "height": 292
        },
        "outputId": "48efe8be-d156-4657-ef15-253b33459456"
      },
      "source": [
        "pip install scikit-image"
      ],
      "execution_count": null,
      "outputs": [
        {
          "output_type": "stream",
          "text": [
            "Requirement already satisfied: scikit-image in /usr/local/lib/python3.6/dist-packages (0.16.2)\n",
            "Requirement already satisfied: networkx>=2.0 in /usr/local/lib/python3.6/dist-packages (from scikit-image) (2.4)\n",
            "Requirement already satisfied: matplotlib!=3.0.0,>=2.0.0 in /usr/local/lib/python3.6/dist-packages (from scikit-image) (3.2.1)\n",
            "Requirement already satisfied: scipy>=0.19.0 in /usr/local/lib/python3.6/dist-packages (from scikit-image) (1.4.1)\n",
            "Requirement already satisfied: imageio>=2.3.0 in /usr/local/lib/python3.6/dist-packages (from scikit-image) (2.4.1)\n",
            "Requirement already satisfied: pillow>=4.3.0 in /usr/local/lib/python3.6/dist-packages (from scikit-image) (7.0.0)\n",
            "Requirement already satisfied: PyWavelets>=0.4.0 in /usr/local/lib/python3.6/dist-packages (from scikit-image) (1.1.1)\n",
            "Requirement already satisfied: decorator>=4.3.0 in /usr/local/lib/python3.6/dist-packages (from networkx>=2.0->scikit-image) (4.4.2)\n",
            "Requirement already satisfied: kiwisolver>=1.0.1 in /usr/local/lib/python3.6/dist-packages (from matplotlib!=3.0.0,>=2.0.0->scikit-image) (1.1.0)\n",
            "Requirement already satisfied: python-dateutil>=2.1 in /usr/local/lib/python3.6/dist-packages (from matplotlib!=3.0.0,>=2.0.0->scikit-image) (2.8.1)\n",
            "Requirement already satisfied: numpy>=1.11 in /usr/local/lib/python3.6/dist-packages (from matplotlib!=3.0.0,>=2.0.0->scikit-image) (1.18.2)\n",
            "Requirement already satisfied: cycler>=0.10 in /usr/local/lib/python3.6/dist-packages (from matplotlib!=3.0.0,>=2.0.0->scikit-image) (0.10.0)\n",
            "Requirement already satisfied: pyparsing!=2.0.4,!=2.1.2,!=2.1.6,>=2.0.1 in /usr/local/lib/python3.6/dist-packages (from matplotlib!=3.0.0,>=2.0.0->scikit-image) (2.4.6)\n",
            "Requirement already satisfied: setuptools in /usr/local/lib/python3.6/dist-packages (from kiwisolver>=1.0.1->matplotlib!=3.0.0,>=2.0.0->scikit-image) (46.0.0)\n",
            "Requirement already satisfied: six>=1.5 in /usr/local/lib/python3.6/dist-packages (from python-dateutil>=2.1->matplotlib!=3.0.0,>=2.0.0->scikit-image) (1.12.0)\n"
          ],
          "name": "stdout"
        }
      ]
    },
    {
      "cell_type": "code",
      "metadata": {
        "id": "evmDo4lEL6si",
        "colab": {
          "base_uri": "https://localhost:8080/",
          "height": 326
        },
        "outputId": "40d4a3e1-76bb-4c92-d4fc-81f5128a6934"
      },
      "source": [
        "pip install git+https://www.github.com/keras-team/keras-contrib.git"
      ],
      "execution_count": null,
      "outputs": [
        {
          "output_type": "stream",
          "text": [
            "Collecting git+https://www.github.com/keras-team/keras-contrib.git\n",
            "  Cloning https://www.github.com/keras-team/keras-contrib.git to /tmp/pip-req-build-3l1mk6cq\n",
            "  Running command git clone -q https://www.github.com/keras-team/keras-contrib.git /tmp/pip-req-build-3l1mk6cq\n",
            "Requirement already satisfied (use --upgrade to upgrade): keras-contrib==2.0.8 from git+https://www.github.com/keras-team/keras-contrib.git in /usr/local/lib/python3.6/dist-packages\n",
            "Requirement already satisfied: keras in /usr/local/lib/python3.6/dist-packages (from keras-contrib==2.0.8) (2.2.5)\n",
            "Requirement already satisfied: scipy>=0.14 in /usr/local/lib/python3.6/dist-packages (from keras->keras-contrib==2.0.8) (1.4.1)\n",
            "Requirement already satisfied: pyyaml in /usr/local/lib/python3.6/dist-packages (from keras->keras-contrib==2.0.8) (3.13)\n",
            "Requirement already satisfied: six>=1.9.0 in /usr/local/lib/python3.6/dist-packages (from keras->keras-contrib==2.0.8) (1.12.0)\n",
            "Requirement already satisfied: keras-applications>=1.0.8 in /usr/local/lib/python3.6/dist-packages (from keras->keras-contrib==2.0.8) (1.0.8)\n",
            "Requirement already satisfied: keras-preprocessing>=1.1.0 in /usr/local/lib/python3.6/dist-packages (from keras->keras-contrib==2.0.8) (1.1.0)\n",
            "Requirement already satisfied: numpy>=1.9.1 in /usr/local/lib/python3.6/dist-packages (from keras->keras-contrib==2.0.8) (1.18.2)\n",
            "Requirement already satisfied: h5py in /usr/local/lib/python3.6/dist-packages (from keras->keras-contrib==2.0.8) (2.10.0)\n",
            "Building wheels for collected packages: keras-contrib\n",
            "  Building wheel for keras-contrib (setup.py) ... \u001b[?25l\u001b[?25hdone\n",
            "  Created wheel for keras-contrib: filename=keras_contrib-2.0.8-cp36-none-any.whl size=101064 sha256=7546428223edd6027d68d4fa17d127c1c9399e2d0c1a4d6e873bacf574cb87a6\n",
            "  Stored in directory: /tmp/pip-ephem-wheel-cache-eh0d1sc7/wheels/11/27/c8/4ed56de7b55f4f61244e2dc6ef3cdbaff2692527a2ce6502ba\n",
            "Successfully built keras-contrib\n"
          ],
          "name": "stdout"
        }
      ]
    },
    {
      "cell_type": "markdown",
      "metadata": {
        "id": "70ivFjysL6sn"
      },
      "source": [
        "Arrange data"
      ]
    },
    {
      "cell_type": "code",
      "metadata": {
        "id": "MylXMrwfL6sp"
      },
      "source": [
        "!gunzip UTKFace.tar.gz\n",
        "!tar -xf UTKFace.tar"
      ],
      "execution_count": null,
      "outputs": []
    },
    {
      "cell_type": "code",
      "metadata": {
        "id": "yJPg5-F9L6sv",
        "colab": {
          "base_uri": "https://localhost:8080/",
          "height": 68
        },
        "outputId": "fa232710-a47e-404d-a9e5-39ae1399041d"
      },
      "source": [
        "!mkdir data\n",
        "!mkdir data/trainA data/trainB "
      ],
      "execution_count": null,
      "outputs": [
        {
          "output_type": "stream",
          "text": [
            "mkdir: cannot create directory ‘data’: File exists\n",
            "mkdir: cannot create directory ‘data/trainA’: File exists\n",
            "mkdir: cannot create directory ‘data/trainB’: File exists\n"
          ],
          "name": "stdout"
        }
      ]
    },
    {
      "cell_type": "code",
      "metadata": {
        "id": "EUosNM-SL6s0"
      },
      "source": [
        "import os, shutil\n",
        "images = os.listdir(\"UTKFace\")\n",
        "for f in images:\n",
        "  try:\n",
        "    val = f.split(\"_\")\n",
        "    age = int(val[0])\n",
        "    race = int(val[2])\n",
        "    if(age >=20 and age<=30):\n",
        "      shutil.copy(\"UTKFace/\"+f, \"data/trainA\")\n",
        "    if(age >=50 and age<=60):\n",
        "      shutil.copy(\"UTKFace/\"+f, \"data/trainB\")   \n",
        "  except:\n",
        "    print(f)"
      ],
      "execution_count": null,
      "outputs": []
    },
    {
      "cell_type": "markdown",
      "metadata": {
        "id": "_kaDdigyL6s3"
      },
      "source": [
        "Dataloader and preprocessing for input images"
      ]
    },
    {
      "cell_type": "code",
      "metadata": {
        "id": "zOdpWAOKSv8D"
      },
      "source": [
        "import scipy\n",
        "from glob import glob\n",
        "import numpy as np\n",
        "from skimage.transform import resize\n",
        "import imageio\n",
        "\n",
        "class DataLoader():\n",
        "    def __init__(self, dataset_name, img_res=(128, 128)):\n",
        "        self.dataset_name = dataset_name\n",
        "        self.img_res = img_res\n",
        "\n",
        "    def load_data(self, domain, batch_size=1, is_testing=False):\n",
        "        path = glob('./%s/%s%s/*' % (self.dataset_name, \"train\", domain))\n",
        "        #data_type = \"train%s\" % domain if not is_testing else \"test%s\" % domain\n",
        "        \n",
        "        \n",
        "        batch_images = np.random.choice(path, size=batch_size)\n",
        "        imgs = []\n",
        "        print(domain, batch_images)\n",
        "        for img_path in batch_images:\n",
        "            img = self.imread(img_path)\n",
        "            if not is_testing:\n",
        "                img = resize(img, self.img_res)\n",
        "\n",
        "                if np.random.random() > 0.5:\n",
        "                    img = np.fliplr(img)\n",
        "            else:\n",
        "                img = resize(img, self.img_res)\n",
        "            imgs.append(img)\n",
        "\n",
        "        imgs = np.array(imgs)/127.5 - 1.\n",
        "\n",
        "        return imgs\n",
        "\n",
        "    def load_batch(self, batch_size=1, is_testing=False):\n",
        "        path_A = glob('./%s/%sA/*' % (self.dataset_name, \"train\"))\n",
        "        path_B = glob('./%s/%sB/*' % (self.dataset_name, \"train\"))\n",
        "        print(len(path_A), len(path_B))\n",
        "        self.n_batches = int(min(len(path_A), len(path_B)) / batch_size)      \n",
        "        total_samples = self.n_batches * batch_size\n",
        "\n",
        "        # Sample n_batches * batch_size from each path list so that model sees all\n",
        "        # samples from both domains\n",
        "        path_A = np.random.choice(path_A, total_samples, replace=False)\n",
        "        path_B = np.random.choice(path_B, total_samples, replace=False)\n",
        "\n",
        "        for i in range(self.n_batches-1):\n",
        "            batch_A = path_A[i*batch_size:(i+1)*batch_size]\n",
        "            batch_B = path_B[i*batch_size:(i+1)*batch_size]\n",
        "            imgs_A, imgs_B = [], []\n",
        "            for img_A, img_B in zip(batch_A, batch_B):            \n",
        "                img_A = self.imread(img_A)\n",
        "                img_B = self.imread(img_B)\n",
        "\n",
        "                img_A = resize(img_A, self.img_res)\n",
        "                img_B = resize(img_B, self.img_res)\n",
        "\n",
        "                if not is_testing and np.random.random() > 0.5:\n",
        "                        img_A = np.fliplr(img_A)\n",
        "                        img_B = np.fliplr(img_B)\n",
        "\n",
        "                imgs_A.append(img_A)\n",
        "                imgs_B.append(img_B)\n",
        "\n",
        "            imgs_A = np.array(imgs_A)/127.5 - 1.\n",
        "            imgs_B = np.array(imgs_B)/127.5 - 1.\n",
        "\n",
        "            yield imgs_A, imgs_B\n",
        "\n",
        "    def load_img(self, path):\n",
        "        img = self.imread(path)\n",
        "        img = resize(img, self.img_res)\n",
        "        img = img/127.5 - 1.\n",
        "        return img[np.newaxis, :, :, :]\n",
        "      \n",
        "    def get_img(self, img):\n",
        "        img = resize(img, self.img_res)\n",
        "        img = img/127.5 - 1.\n",
        "        return img\n",
        "      \n",
        "    def revert_img(self, img, new_res):\n",
        "      img = resize(img, new_res)\n",
        "      img = (img)*0.5 + 0.5\n",
        "      img = img*255\n",
        "      img = img.astype(np.float32)\n",
        "      return img \n",
        "\n",
        "    def imread(self, path):\n",
        "        return imageio.imread(path, as_gray=False, pilmode=\"RGB\").astype(np.float)\n",
        "      \n",
        "def revert_img(img, new_res):\n",
        "  img = (img)*0.5 + 0.5\n",
        "  img = img*255\n",
        "  img = resize(img, new_res)\n",
        "  img = img.astype(np.float32)\n",
        "  return img"
      ],
      "execution_count": null,
      "outputs": []
    },
    {
      "cell_type": "code",
      "metadata": {
        "id": "-uxXUaq6TPJY"
      },
      "source": [
        "from skimage.measure import compare_ssim as ssim"
      ],
      "execution_count": null,
      "outputs": []
    },
    {
      "cell_type": "code",
      "metadata": {
        "id": "Kv7Y7zIZL6s-"
      },
      "source": [
        "from __future__ import print_function, division\n",
        "import scipy, os\n",
        "import scipy.misc\n",
        "from skimage.measure import compare_ssim as ssim\n",
        "from keras.datasets import mnist\n",
        "from keras_contrib.layers.normalization.instancenormalization import InstanceNormalization\n",
        "from keras.layers import Input, Dense, Reshape, Flatten, Dropout, Concatenate,GlobalAveragePooling2D,GlobalMaxPooling2D\n",
        "from keras.layers import BatchNormalization, Activation, ZeroPadding2D,AveragePooling2D,MaxPooling2D\n",
        "from keras.layers.advanced_activations import LeakyReLU\n",
        "from keras.activations import relu \n",
        "from keras.layers.convolutional import UpSampling2D, Conv2D, Conv2DTranspose\n",
        "from keras.models import Sequential, Model\n",
        "from keras.optimizers import Adam\n",
        "from keras.layers.convolutional import AtrousConvolution2D\n",
        "import datetime\n",
        "import matplotlib.pyplot as plt\n",
        "import sys\n",
        "import numpy as np\n",
        "import os\n",
        "import keras\n",
        "import shutil, os, random\n",
        "from keras.models import load_model\n",
        "import numpy as np\n",
        "import matplotlib.pyplot as plt\n",
        "import matplotlib.image as mpimg\n",
        "import pandas as pd\n",
        "%matplotlib inline\n",
        "import matplotlib.pyplot as plt\n",
        "plt.style.use('seaborn-whitegrid')\n",
        "\n",
        "class CycleGAN():\n",
        "    def __init__(self):\n",
        "        # Input shape\n",
        "        self.img_rows = 256\n",
        "        self.img_cols = 256\n",
        "        self.channels = 3\n",
        "        self.img_shape = (self.img_rows, self.img_cols, self.channels)  \n",
        "\n",
        "        # Configure data loader\n",
        "        self.dataset_name = 'data'\n",
        "        self.data_loader = DataLoader(dataset_name=self.dataset_name,\n",
        "                                      img_res=(self.img_rows, self.img_cols))\n",
        "\n",
        "\n",
        "        # Calculate output shape of D (PatchGAN)\n",
        "        patch = int(self.img_rows / 2**4)\n",
        "        self.disc_patch = (patch, patch, 1)\n",
        "\n",
        "        # Number of filters in the first layer of G and D\n",
        "        self.gf = 64\n",
        "        self.df = 64\n",
        "\n",
        "        # Loss weights\n",
        "        self.lambda_cycle = 0.1                   # Cycle-consistency loss\n",
        "        self.lambda_id = 0.1 * self.lambda_cycle    # Identity loss\n",
        "\n",
        "        optimizer = Adam(0.0002, 0.5)\n",
        "        pdir = \"/content/drive/My Drive/keras_combined_gan/\"\n",
        "        # Build and compile the discriminators\n",
        "        self.d_A = self.build_discriminator()\n",
        "        self.d_A.compile(loss='mse',\n",
        "          optimizer=optimizer,\n",
        "          metrics=['accuracy'])\n",
        "                \n",
        "        \n",
        "        self.d_B = self.build_discriminator()\n",
        "        c=self.build_discriminator()\n",
        "        c.summary()\n",
        "        self.d_B.compile(loss='mse',\n",
        "          optimizer=optimizer,\n",
        "          metrics=['accuracy'])\n",
        "        \n",
        "\n",
        "        #-------------------------\n",
        "        # Construct Computational\n",
        "        #   Graph of Generators\n",
        "        #-------------------------\n",
        "\n",
        "        # Build the generators\n",
        "        self.g_AB = self.build_generator()\n",
        "        a=self.build_generator()\n",
        "        a.summary()\n",
        "        a.save('/content/result.png')\n",
        "        self.g_BA = self.build_generator()\n",
        "      \n",
        "\n",
        "        # Input images from both domains\n",
        "        img_A = Input(shape=self.img_shape)\n",
        "        img_B = Input(shape=self.img_shape)\n",
        "\n",
        "        # Translate images to the other domain\n",
        "        fake_B = self.g_AB(img_A)\n",
        "        fake_A = self.g_BA(img_B)\n",
        "        # Translate images back to original domain\n",
        "        reconstr_A = self.g_BA(fake_B)\n",
        "        reconstr_B = self.g_AB(fake_A)\n",
        "        # Identity mapping of images\n",
        "        img_A_id = self.g_BA(img_A)\n",
        "        img_B_id = self.g_AB(img_B)\n",
        "\n",
        "        # For the combined model we will only train the generators ??\n",
        "        self.d_A.trainable = False\n",
        "        self.d_B.trainable = False        \n",
        "\n",
        "        # Discriminators determines validity of translated images\n",
        "        valid_A = self.d_A(fake_A)\n",
        "        valid_B = self.d_B(fake_B)    \n",
        "\n",
        "        # Combined model trains generators to fool discriminators\n",
        "        self.combined = Model(inputs=[img_A, img_B],\n",
        "                                outputs=[ valid_A, valid_B,\n",
        "                                        reconstr_A, reconstr_B,\n",
        "                                        img_A_id, img_B_id ])\n",
        "        self.combined.compile(loss=['hinge', 'hinge',\n",
        "                                    'mse', 'mse',\n",
        "                                  'mae', 'mae'],\n",
        "                            loss_weights=[  1, 1,\n",
        "                                          self.lambda_cycle, self.lambda_cycle,\n",
        "                                          self.lambda_id, self.lambda_id ],\n",
        "                            optimizer=optimizer)\n",
        "\n",
        "    def build_generator(self):\n",
        "        \"\"\"Resnet Generator\"\"\"\n",
        "\n",
        "        def conv2d(layer_input, filters=16, strides=1, name=None, f_size=4):\n",
        "            d = Conv2D(filters, kernel_size=f_size, strides=strides, padding='same', name=name)(layer_input)\n",
        "            d = InstanceNormalization(name=name+\"_bn\")(d)\n",
        "            d = Activation('relu')(d)\n",
        "            return d\n",
        "          \n",
        "        def residual(layer_input, filters=16, strides=1, name=None, f_size=3):\n",
        "            d = conv2d(layer_input, filters=filters, strides=strides, name=name, f_size=f_size)\n",
        "            d = Conv2D(filters, kernel_size=f_size, strides=strides, padding='same', name=name+\"_2\")(d)\n",
        "            d = InstanceNormalization(name=name+\"_bn2\")(d)\n",
        "            d = keras.layers.add([d, layer_input])\n",
        "            return d\n",
        "\n",
        "        def conv2d_transpose(layer_input, filters=16, strides=1, name=None, f_size=4):\n",
        "            u = Conv2DTranspose(filters, strides=strides, name=name, kernel_size=f_size, padding='same')(layer_input)\n",
        "            u = InstanceNormalization(name=name+\"_bn\")(u)\n",
        "            u = Activation('relu')(u)\n",
        "            return u\n",
        "\n",
        "        # Image input\n",
        "        c0 = Input(shape=self.img_shape)\n",
        "        c1 = conv2d(c0, filters=self.gf, strides=1, name=\"g_e1\", f_size=7)\n",
        "        c2 = conv2d(c1, filters=self.gf*2, strides=2, name=\"g_e2\", f_size=3)\n",
        "        c3 = conv2d(c2, filters=self.gf*4, strides=2, name=\"g_e3\", f_size=3)\n",
        "        \n",
        "        r1 = residual(c3, filters=self.gf*4, name='g_r1')\n",
        "        r2 = residual(r1, self.gf*4, name='g_r2')\n",
        "        r3 = residual(r2, self.gf*4, name='g_r3')\n",
        "        r4 = residual(r3, self.gf*4, name='g_r4')\n",
        "        r5 = residual(r4, self.gf*4, name='g_r5')\n",
        "        r6 = residual(r5, self.gf*4, name='g_r6')\n",
        "        r7 = residual(r6, self.gf*4, name='g_r7')\n",
        "        r8 = residual(r7, self.gf*4, name='g_r8')\n",
        "        r9 = residual(r8, self.gf*4, name='g_r9')\n",
        "\n",
        "        \n",
        "       # m1= MaxPooling2D(data_format=None)(r9)\n",
        "        m1=AveragePooling2D(pool_size=(2, 2), strides=None, padding='valid', data_format=None)(r9)\n",
        "        m1=Conv2D(filters=32, kernel_size=1, strides=1, padding='same')(m1)\n",
        "        m1= UpSampling2D(size=(2, 2), data_format=None, interpolation='nearest')(m1)\n",
        "       \n",
        "\n",
        "        m2=Conv2D(filters=32, kernel_size=1, strides=1, padding='same')(r9)\n",
        "\n",
        "      \n",
        "       # m3=AtrousConvolution2D(256, 3, 3, border_mode=\"same\",atrous_rate=6)(r9)\n",
        "        m3=Conv2D(32, (3, 3), dilation_rate=6, padding=\"same\")(r9)\n",
        "        \n",
        "        \n",
        "        #m4=AtrousConvolution2D(256, 3, 3, border_mode=\"same\",atrous_rate=12)(r9)\n",
        "        m4=Conv2D(32, (3, 3), dilation_rate=12, padding=\"same\")(r9)\n",
        "       # m5=AtrousConvolution2D(256, 3, 3, border_mode=\"same\",atrous_rate=18)(r9)\n",
        "        m5=Conv2D(32, (3, 3), dilation_rate=18, padding=\"same\")(r9)\n",
        "        M = Concatenate(axis=3)([m1,m2,m3,m4,m5])\n",
        "        \n",
        "       \n",
        "\n",
        "        d1 = conv2d_transpose(M, filters=self.gf*2, f_size=3, strides=2, name='g_d1_dc')\n",
        "        d2 = conv2d_transpose(d1, filters=self.gf, f_size=3, strides=2, name='g_d2_dc')\n",
        "        \n",
        "        output_img = Conv2D(self.channels, kernel_size=7, strides=1, padding='same', activation='tanh')(d2)\n",
        "\n",
        "        return Model(inputs=[c0], outputs=[output_img])\n",
        "\n",
        "    def build_discriminator(self):\n",
        "\n",
        "        def d_layer(layer_input, filters, f_size=4, normalization=True):\n",
        "            \"\"\"Discriminator layer\"\"\"\n",
        "            d = Conv2D(filters, kernel_size=f_size, strides=2, padding='same')(layer_input)\n",
        "            d = LeakyReLU(alpha=0.2)(d)\n",
        "            #d=keras.layers.PReLU(alpha_initializer='zeros', alpha_regularizer=None, alpha_constraint=None, shared_axes=None)(d)\n",
        "            if normalization:\n",
        "                d = InstanceNormalization()(d)\n",
        "            return d\n",
        "\n",
        "        img = Input(shape=self.img_shape)\n",
        "\n",
        "        d1 = d_layer(img, self.df, normalization=False)\n",
        "        d2 = d_layer(d1, self.df*2)\n",
        "        d3 = d_layer(d2, self.df*4)\n",
        "        d4 = d_layer(d3, self.df*8)\n",
        "\n",
        "        validity = Conv2D(1, kernel_size=4, strides=1, padding='same')(d4)\n",
        "\n",
        "        return Model(img, validity)\n",
        "\n",
        "    def train(self, epochs, batch_size=1, sample_interval=50):\n",
        "\n",
        "        start_time = datetime.datetime.now()\n",
        "\n",
        "        # Adversarial loss ground truths\n",
        "        valid = np.ones((batch_size,) + self.disc_patch)\n",
        "        fake = np.zeros((batch_size,) + self.disc_patch)\n",
        "        history = []\n",
        "        g_loss=[]\n",
        "        d_loss=[]\n",
        "        for epoch in range(epochs):\n",
        "            for batch_i, (imgs_A, imgs_B) in enumerate(self.data_loader.load_batch(batch_size)):\n",
        "\n",
        "                # ----------------------\n",
        "                #  Train Discriminators\n",
        "                # ----------------------\n",
        "\n",
        "                # Translate images to opposite domain     \n",
        "                fake_B = self.g_AB.predict([imgs_A])\n",
        "                fake_A = self.g_BA.predict([imgs_B])\n",
        "\n",
        "                # Train the discriminators (original images = real / translated = Fake)\n",
        "                dA_loss_real = self.d_A.train_on_batch(imgs_A, valid)\n",
        "                dA_loss_fake = self.d_A.train_on_batch(fake_A, fake)               \n",
        "                dA_loss = 0.5 * np.add(dA_loss_real, dA_loss_fake)\n",
        "\n",
        "                dB_loss_real = self.d_B.train_on_batch(imgs_B, valid)                \n",
        "                dB_loss_fake = self.d_B.train_on_batch(fake_B, fake)                \n",
        "                dB_loss = 0.5 * np.add(dB_loss_real, dB_loss_fake)\n",
        "\n",
        "                # Total disciminator loss\n",
        "                d_loss = 0.5 * np.add(dA_loss, dB_loss)\n",
        "                \n",
        "                # ------------------\n",
        "                #  Train Generators\n",
        "                # ------------------\n",
        "\n",
        "                # Train the generators\n",
        "                g_loss = self.combined.train_on_batch([imgs_A, imgs_B],\n",
        "                                                        [valid, valid,\n",
        "                                                        imgs_A, imgs_B,\n",
        "                                                        imgs_A, imgs_B])  \n",
        "\n",
        "\n",
        "                \n",
        "                elapsed_time = datetime.datetime.now() - start_time\n",
        "                if batch_i%100==0:\n",
        "                  # Plot the progress\n",
        "                  print (\"[Age Epoch %d/%d] [Batch %d/%d] [D loss: %f, acc: %3d%%] [G loss: %05f, adv: %05f, recon: %05f, id: %05f]  time: %s \" \\\n",
        "                                                                          % ( epoch, epochs,\n",
        "                                                                              batch_i, self.data_loader.n_batches,\n",
        "                                                                              d_loss[0], 100*d_loss[1],\n",
        "                                                                              g_loss[0],\n",
        "                                                                              np.mean(g_loss[1:3]),\n",
        "                                                                              np.mean(g_loss[3:5]),\n",
        "                                                                              np.mean(g_loss[5:6]),\n",
        "                                                                              elapsed_time)) \n",
        "                  history.append({\"D\":d_loss[0],\"G\":g_loss[0]})   \n",
        "                  \n",
        "                                                                              \n",
        "                # If at save interval => save generated image samples\n",
        "                if batch_i % sample_interval == 0:\n",
        "                    self.sample_images(epoch, batch_i)  \n",
        "                    self._plot_loss(history)\n",
        "      \n",
        "                  \n",
        "            \n",
        "    def sample_images(self, epoch, batch_i):\n",
        "        os.makedirs('images/%s' % self.dataset_name, exist_ok=True)\n",
        "        r, c = 2, 3\n",
        "        imgs_A = self.data_loader.load_data(domain=\"A\", batch_size=1, is_testing=False)\n",
        "        imgs_B = self.data_loader.load_data(domain=\"B\", batch_size=1, is_testing=False)\n",
        "\n",
        "        # Translate images to the other domain\n",
        "        fake_B = self.g_AB.predict([imgs_A])\n",
        "        fake_A = self.g_BA.predict([imgs_B])\n",
        "        # Translate back to original domain\n",
        "        reconstr_A = self.g_BA.predict([fake_B])\n",
        "        reconstr_B = self.g_AB.predict([fake_A])\n",
        "\n",
        "        gen_imgs = np.concatenate([imgs_A, fake_B, reconstr_A, imgs_B, fake_A, reconstr_B])\n",
        "\n",
        "        # Rescale images 0 - 1\n",
        "        gen_imgs = 0.5 * gen_imgs + 0.5\n",
        "\n",
        "        titles = ['Original', 'Translated', 'Reconstructed']\n",
        "        fig, axs = plt.subplots(r, c)\n",
        "        cnt = 0\n",
        "        for i in range(r):\n",
        "            for j in range(c):\n",
        "                axs[i,j].imshow(gen_imgs[cnt])\n",
        "                axs[i, j].set_title(titles[j])\n",
        "                axs[i,j].axis('off')\n",
        "                cnt += 1\n",
        "        fig.savefig(\"images/%s/%d_%d.png\" % (self.dataset_name, epoch, batch_i))\n",
        "        plt.close()\n",
        "    def _plot_loss(self, history):\n",
        "        hist = pd.DataFrame(history)\n",
        "      \n",
        "        \n",
        "        for colnm in hist.columns:\n",
        "            plt.grid()\n",
        "            plt.plot(hist[colnm],label='Loss')\n",
        "            \n",
        "            plt.legend(loc='upper right')\n",
        "            plt.ylabel(\"loss\")\n",
        "            plt.xlabel(\"epoach\")\n",
        "            plt.show()\n",
        "        \n",
        "    def run_20_to_50(self, image):\n",
        "        imgs_A = self.data_loader.load_data(domain=\"A\", batch_size=1, is_testing=True)        \n",
        "        fake_B = self.g_AB.predict(imgs_A)\n",
        "        plt.show(imgs_A)\n",
        "gan = CycleGAN()\n",
        "gan.train(epochs=50, batch_size=15, sample_interval=20)"
      ],
      "execution_count": null,
      "outputs": []
    },
    {
      "cell_type": "code",
      "metadata": {
        "id": "o_rJ5JYP-bRV"
      },
      "source": [
        "[D loss: 0.251282, acc:  47%] [G loss: 0.688893, adv: 0.326914, recon: 0.160102, id: 0.148827]\n",
        "[D loss: 0.253003, acc:  48%] [G loss: 0.643395, adv: 0.305496, recon: 0.146239, id: 0.156863]"
      ],
      "execution_count": null,
      "outputs": []
    },
    {
      "cell_type": "markdown",
      "metadata": {
        "id": "03F-c6kFpFUK"
      },
      "source": [
        "[D loss: 0.500000, acc:   0%] [G loss: 0.013605, adv: 0.000000, recon: 0.063551, id: 0.045991] Hinge loss"
      ]
    },
    {
      "cell_type": "markdown",
      "metadata": {
        "id": "FSVDxAXTQKoD"
      },
      "source": [
        "# New Section"
      ]
    },
    {
      "cell_type": "code",
      "metadata": {
        "id": "4Vn9HuDmcljp"
      },
      "source": [
        "%matplotlib inline\n",
        "from pathlib import Path\n",
        "import matplotlib.pyplot as plt\n",
        "\n",
        "image_dir = Path('/content/UTKFace')\n",
        "ages = []\n",
        "\n",
        "for image_path in image_dir.glob(\"*.jpg\"):\n",
        "    image_name = image_path.name  # [age]_[gender]_[race]_[date&time].jpg\n",
        "    age, gender = image_name.split(\"_\")[:2]\n",
        "    ages.append(min(int(age), 100))"
      ],
      "execution_count": null,
      "outputs": []
    },
    {
      "cell_type": "code",
      "metadata": {
        "id": "5Tf3zlY_ctc_"
      },
      "source": [
        "\n",
        "_ = plt.hist(ages, range(100))\n",
        "plt.xlabel(\"Age\",fontsize=12)\n",
        "plt.ylabel(\"Number of People\",fontsize=12)\n",
        "plt.title('Normal Distribution Histogram of UTKFace Dataset',fontsize=12)\n",
        "plt.show()\n"
      ],
      "execution_count": null,
      "outputs": []
    },
    {
      "cell_type": "code",
      "metadata": {
        "id": "dqRPyLg0gf-M"
      },
      "source": [
        "DATA_DIR = \"/content/UTKFace\"\n",
        "TRAIN_TEST_SPLIT = 0.7\n",
        "IM_WIDTH = IM_HEIGHT = 256\n",
        "ID_GENDER_MAP = {0: 'male', 1: 'female'}\n",
        "GENDER_ID_MAP = dict((g, i) for i, g in ID_GENDER_MAP.items())\n",
        "ID_RACE_MAP = {0: 'white', 1: 'black', 2: 'asian', 3: 'indian', 4: 'others'}\n",
        "RACE_ID_MAP = dict((r, i) for i, r in ID_RACE_MAP.items())\n",
        "\n",
        "ID_GENDER_MAP, GENDER_ID_MAP, ID_RACE_MAP, RACE_ID_MAP"
      ],
      "execution_count": null,
      "outputs": []
    },
    {
      "cell_type": "code",
      "metadata": {
        "id": "Xljo6AKigwpX"
      },
      "source": [
        "def parse_filepath(filepath):\n",
        "    try:\n",
        "        path, filename = os.path.split(filepath)\n",
        "        filename, ext = os.path.splitext(filename)\n",
        "        age, gender, race, _ = filename.split(\"_\")\n",
        "        return int(age), ID_GENDER_MAP[int(gender)], ID_RACE_MAP[int(race)]\n",
        "    except Exception as e:\n",
        "        print(filepath)\n",
        "        return None, None, None"
      ],
      "execution_count": null,
      "outputs": []
    },
    {
      "cell_type": "code",
      "metadata": {
        "id": "bFt9sZiig7cY"
      },
      "source": [
        "import numpy as np # linear algebra\n",
        "import pandas as pd # data processing, CSV file I/O (e.g. pd.read_csv)\n",
        "import os\n",
        "import glob\n",
        "import pandas as pd\n",
        "import matplotlib.pyplot as plt\n",
        "import seaborn as sns"
      ],
      "execution_count": null,
      "outputs": []
    },
    {
      "cell_type": "code",
      "metadata": {
        "id": "tQkTgiG7g14H"
      },
      "source": [
        "# create a pandas data frame of images, age, gender and race\n",
        "files = glob.glob(os.path.join(DATA_DIR, \"*.jpg\"))"
      ],
      "execution_count": null,
      "outputs": []
    },
    {
      "cell_type": "code",
      "metadata": {
        "id": "zS0l6k2VhAfB"
      },
      "source": [
        "attributes = list(map(parse_filepath, files))"
      ],
      "execution_count": null,
      "outputs": []
    },
    {
      "cell_type": "code",
      "metadata": {
        "id": "J1pM_I5zhD_O"
      },
      "source": [
        "df = pd.DataFrame(attributes)\n",
        "df['file'] = files\n",
        "df.columns = ['age', 'gender', 'Class of People', 'file']\n",
        "df = df.dropna()\n",
        "df.head()"
      ],
      "execution_count": null,
      "outputs": []
    },
    {
      "cell_type": "code",
      "metadata": {
        "id": "ov3k5H_xhK3Z"
      },
      "source": [
        "df.describe()"
      ],
      "execution_count": null,
      "outputs": []
    },
    {
      "cell_type": "code",
      "metadata": {
        "id": "CPY6lZqrhcoQ"
      },
      "source": [
        "\n",
        "fig, (ax1, ax2) = plt.subplots(1, 2, figsize=(15, 6))\n",
        "_ = sns.boxplot(data=df, x='gender', y='age', ax=ax1)\n",
        "_ = sns.boxplot(data=df, x='Class of People', y='age', ax=ax2)"
      ],
      "execution_count": null,
      "outputs": []
    },
    {
      "cell_type": "code",
      "metadata": {
        "id": "U6BLIiYuipvj"
      },
      "source": [
        "df = df[(df['age'] >50) & (df['age'] <60)]\n",
        "df.describe()"
      ],
      "execution_count": null,
      "outputs": []
    },
    {
      "cell_type": "code",
      "metadata": {
        "id": "86WqP9NLL6to"
      },
      "source": [
        "!wget https://github.com/spmallick/learnopencv/raw/master/FaceDetectionComparison/models/opencv_face_detector_uint8.pb\n",
        "!wget https://raw.githubusercontent.com/opencv/opencv_extra/master/testdata/dnn/opencv_face_detector.pbtxt"
      ],
      "execution_count": null,
      "outputs": []
    },
    {
      "cell_type": "code",
      "metadata": {
        "id": "4EDqZeEXL6tt"
      },
      "source": [
        "!wget https://statics.sportskeeda.com/editor/2018/09/4c606-1536825356-800.jpg \n",
        "!mv 4c606-1536825356-800.jpg big3.jpg"
      ],
      "execution_count": null,
      "outputs": []
    },
    {
      "cell_type": "code",
      "metadata": {
        "id": "gevlrgIhE0F3"
      },
      "source": [
        "import cv2\n",
        "%matplotlib inline \n",
        "import scipy.misc\n",
        "from matplotlib import pyplot as plt\n",
        "from PIL import Image\n",
        "def detectFaceOpenCVDnn(net, frame):\n",
        "    frameOpencvDnn = frame.copy()\n",
        "    frameHeight = frameOpencvDnn.shape[0]\n",
        "    frameWidth = frameOpencvDnn.shape[1]\n",
        "    blob = cv2.dnn.blobFromImage(frameOpencvDnn, 1.0, (frameHeight, frameWidth), [104, 117, 123], False, False)\n",
        "\n",
        "    net.setInput(blob)\n",
        "    detections = net.forward()\n",
        "    bboxes = []\n",
        "    for i in range(detections.shape[2]):\n",
        "        confidence = detections[0, 0, i, 2]\n",
        "        if confidence > conf_threshold:\n",
        "            x1 = int(detections[0, 0, i, 3] * frameWidth)\n",
        "            y1 = int(detections[0, 0, i, 4] * frameHeight)\n",
        "            x2 = int(detections[0, 0, i, 5] * frameWidth)\n",
        "            y2 = int(detections[0, 0, i, 6] * frameHeight)\n",
        "            bboxes.append([x1, y1, x2, y2])\n",
        "            if not(x1<30 or y1<30 or x2>frameWidth-30 or y2>frameHeight-30):\n",
        "              y1, y2 = y1-20, y2+20\n",
        "              x1, x2 = x1-20, x2+20\n",
        "            else:\n",
        "              continue\n",
        "            crop_img = frameOpencvDnn[y1:y2, x1:x2]\n",
        "            crop_img = cv2.cvtColor(crop_img, cv2.COLOR_BGR2RGB).astype(\"float32\")\n",
        "            cv2.imwrite(\"cropped\"+str(i)+\".jpg\", crop_img)\n",
        "            inp = np.array([gan.data_loader.get_img(crop_img)])\n",
        "            old_img = gan.g_AB.predict([inp])\n",
        "            new_img = revert_img(old_img[0], (y2-y1, x2-x1))\n",
        "            new_img = cv2.cvtColor(new_img, cv2.COLOR_RGB2BGR).astype(\"float32\")\n",
        "            frameOpencvDnn[y1:y2, x1:x2] = new_img\n",
        "            scipy.misc.imsave(\"old\"+str(i)+\".jpg\", new_img)\n",
        "    return frameOpencvDnn, bboxes\n",
        "  \n",
        "conf_threshold = 0.8\n",
        "modelFile = \"opencv_face_detector_uint8.pb\"\n",
        "configFile = \"opencv_face_detector.pbtxt\"\n",
        "net = cv2.dnn.readNetFromTensorflow(modelFile, configFile)\n",
        "frame = cv2.imread(\"big3.jpg\")\n",
        "outOpencvDnn, bboxes = detectFaceOpenCVDnn(net,frame)\n",
        "cv2.imwrite(\"big3_old.jpg\", outOpencvDnn)\n",
        "outOpencvDnn, bboxes = detectFaceOpenCVDnn(net,frame)\n",
        "cv2.imwrite(\"big3_black.jpg\", outOpencvDnn)"
      ],
      "execution_count": null,
      "outputs": []
    }
  ]
}